{
 "metadata": {
  "language_info": {
   "codemirror_mode": {
    "name": "ipython",
    "version": 3
   },
   "file_extension": ".py",
   "mimetype": "text/x-python",
   "name": "python",
   "nbconvert_exporter": "python",
   "pygments_lexer": "ipython3",
   "version": "3.8.5-final"
  },
  "orig_nbformat": 2,
  "kernelspec": {
   "name": "Python 3.8.5 64-bit",
   "display_name": "Python 3.8.5 64-bit",
   "metadata": {
    "interpreter": {
     "hash": "1baa965d5efe3ac65b79dfc60c0d706280b1da80fedb7760faf2759126c4f253"
    }
   }
  }
 },
 "nbformat": 4,
 "nbformat_minor": 2,
 "cells": [
  {
   "source": [
    "import pandas as pd\n",
    "\n",
    "print(\"Hi! This is a cell. Press the ▶ button above to run it\")"
   ],
   "cell_type": "code",
   "metadata": {},
   "execution_count": 1,
   "outputs": [
    {
     "output_type": "stream",
     "name": "stdout",
     "text": [
      "Hi! This is a cell. Press the ▶ button above to run it\n"
     ]
    }
   ]
  },
  {
   "cell_type": "code",
   "execution_count": null,
   "metadata": {},
   "outputs": [],
   "source": []
  },
  {
   "cell_type": "code",
   "execution_count": 99,
   "metadata": {},
   "outputs": [
    {
     "output_type": "execute_result",
     "data": {
      "text/plain": [
       "      district_name  district_name\n",
       "ЦФО            3211           3948\n",
       "ПФО            1450           1877\n",
       "СЗФО            981           1321\n",
       "СФО             956           1418\n",
       "УрФО            772            783\n",
       "ЮФО             757           1367\n",
       "ДВФО            238            759\n",
       "СКФО            106            202"
      ],
      "text/html": "<div>\n<style scoped>\n    .dataframe tbody tr th:only-of-type {\n        vertical-align: middle;\n    }\n\n    .dataframe tbody tr th {\n        vertical-align: top;\n    }\n\n    .dataframe thead th {\n        text-align: right;\n    }\n</style>\n<table border=\"1\" class=\"dataframe\">\n  <thead>\n    <tr style=\"text-align: right;\">\n      <th></th>\n      <th>district_name</th>\n      <th>district_name</th>\n    </tr>\n  </thead>\n  <tbody>\n    <tr>\n      <th>ЦФО</th>\n      <td>3211</td>\n      <td>3948</td>\n    </tr>\n    <tr>\n      <th>ПФО</th>\n      <td>1450</td>\n      <td>1877</td>\n    </tr>\n    <tr>\n      <th>СЗФО</th>\n      <td>981</td>\n      <td>1321</td>\n    </tr>\n    <tr>\n      <th>СФО</th>\n      <td>956</td>\n      <td>1418</td>\n    </tr>\n    <tr>\n      <th>УрФО</th>\n      <td>772</td>\n      <td>783</td>\n    </tr>\n    <tr>\n      <th>ЮФО</th>\n      <td>757</td>\n      <td>1367</td>\n    </tr>\n    <tr>\n      <th>ДВФО</th>\n      <td>238</td>\n      <td>759</td>\n    </tr>\n    <tr>\n      <th>СКФО</th>\n      <td>106</td>\n      <td>202</td>\n    </tr>\n  </tbody>\n</table>\n</div>"
     },
     "metadata": {},
     "execution_count": 99
    }
   ],
   "source": [
    "import pandas as pd\n",
    "filename = 'vacancies.xlsx'\n",
    "# xl_file = pd.ExcelFile('vacancies.xlsx')\n",
    "dfs = pd.read_excel(filename, sheet_name='data')\n",
    "# dfs.head()\n",
    "# dfs.groupby('vacancy_type')\n",
    "# dfs.index\n",
    "standart_plus = dfs.loc[dfs['vacancy_type'] == 'STANDART PLUS']\n",
    "districts = standart_plus['district_name']\n",
    "districts_plus_count = districts.value_counts()\n",
    "districts_plus_count.name = 'standart plus'\n",
    "another = dfs.loc[dfs['vacancy_type'] != 'STANDART PLUS']\n",
    "districts_a = another['district_name']\n",
    "districts_a_count = districts_a.value_counts()\n",
    "# type(districts_a_count)\n",
    "pd.concat([districts_plus_count, districts_a_count], axis = 1)\n",
    "# print (districts_plus_count/districts_a_count)\n",
    "\n",
    "# regions.groupby('region_name').agg(['count'])\n",
    "# standart_plus.groupby('region_name').agg(['count'])"
   ]
  },
  {
   "cell_type": "code",
   "execution_count": 33,
   "metadata": {},
   "outputs": [
    {
     "output_type": "execute_result",
     "data": {
      "text/plain": [
       "1222.0    67\n",
       "1417.0    30\n",
       "1377.0    23\n",
       "1270.0    12\n",
       "579.0     10\n",
       "          ..\n",
       "3696.0     1\n",
       "3400.0     1\n",
       "3408.0     1\n",
       "2318.0     1\n",
       "1208.0     1\n",
       "Name: employer_id, Length: 2811, dtype: int64"
      ]
     },
     "metadata": {},
     "execution_count": 33
    }
   ],
   "source": [
    "moscow = dfs.loc[dfs['region_name'] == 'Москва']\n",
    "moscow_hunters = moscow['employer_id']\n",
    "moscow_hunters.value_counts()\n"
   ]
  },
  {
   "cell_type": "code",
   "execution_count": 36,
   "metadata": {},
   "outputs": [
    {
     "output_type": "execute_result",
     "data": {
      "text/plain": [
       "STANDART    67\n",
       "Name: vacancy_type, dtype: int64"
      ]
     },
     "metadata": {},
     "execution_count": 36
    }
   ],
   "source": [
    "top_hunter = moscow.loc[moscow['employer_id']==1222]\n",
    "top_hunter_types = top_hunter['vacancy_type']\n",
    "top_hunter_types.value_counts()\n"
   ]
  },
  {
   "cell_type": "code",
   "execution_count": 58,
   "metadata": {},
   "outputs": [
    {
     "output_type": "execute_result",
     "data": {
      "text/plain": [
       "17.003843086070624"
      ]
     },
     "metadata": {},
     "execution_count": 58
    }
   ],
   "source": [
    "# by_employees = dfs.groupby('employer_id').agg(['count'])\n",
    "# # by_employees[by_employees.Count == 1]\n",
    "# by_employees[by_employees.count==1]\n",
    "# y = dfs.groupby\n",
    "# type(by_employees)\n",
    "# singles = by_employees.loc['count']==1\n",
    "# singles \n",
    "# regions.groupby('region_name').agg(['count'])\n",
    "hunters = dfs['employer_id'].value_counts()\n",
    "multis = hunters[hunters>1] #больше одной\n",
    "# len(singles)\n",
    "# multis = len(hunters)-len(singles)\n",
    "# print (len(hunters))\n",
    "# print (multis)\n",
    "100*len(multis)/len(hunters)\n",
    "\n",
    "\n",
    "\n"
   ]
  },
  {
   "cell_type": "code",
   "execution_count": 91,
   "metadata": {},
   "outputs": [
    {
     "output_type": "stream",
     "name": "stdout",
     "text": [
      "STANDART\n6 days 00:00:00\nSTANDART PLUS\n11 days 00:00:00\nPREMIUM\n14 days 04:48:00\nAP\n30 days 00:00:00\n"
     ]
    }
   ],
   "source": [
    "#добавить колонку со сроком жизни каждой вакансии\n",
    "#допустим получится 1,1,2,3,1,5,7\n",
    "#это все сгруппировать под типам\n",
    "#допустим вакансии одного типа получится 1,1,2,3,1,5,7\n",
    "\n",
    "t = dfs.vacancy_type.unique()\n",
    "dfs['lifetime']=dfs.archivation_date-dfs.creation_date\n",
    "# types = types[~np.isnan(types)]\n",
    "# t = t[numpy.logical_not(numpy.isnan(t))]\n",
    "t = filter(lambda v: v==v, t)\n",
    "for v_type in t:\n",
    "    # print (value)\n",
    "    by_type = dfs.loc[dfs['vacancy_type'] == v_type]\n",
    "    # print (by_type)\n",
    "    print (v_type)\n",
    "    print(by_type.lifetime.quantile(0.1))\n",
    "\n",
    "# type(types)\n",
    "# types\n",
    "# types.pop(nan)\n",
    "# types = types[~np.isnan(types)]\n",
    "# types\n",
    "# dfs.vacancy_type.value_counts()\n",
    "# stp= dfs.loc[dfs['vacancy_type'] == 'STANDART PLUS']\n",
    "# stp['lifetime']=stp.archivation_date-stp.creation_date\n",
    "# stp.lifetime.quantile(0.1)\n",
    "\n",
    "# stp['lifetime'].value_counts()\n"
   ]
  },
  {
   "cell_type": "code",
   "execution_count": null,
   "metadata": {},
   "outputs": [],
   "source": []
  }
 ]
}