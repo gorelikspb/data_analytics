{
 "metadata": {
  "language_info": {
   "codemirror_mode": {
    "name": "ipython",
    "version": 3
   },
   "file_extension": ".py",
   "mimetype": "text/x-python",
   "name": "python",
   "nbconvert_exporter": "python",
   "pygments_lexer": "ipython3",
   "version": "3.8.5-final"
  },
  "orig_nbformat": 2,
  "kernelspec": {
   "name": "Python 3.8.5 64-bit",
   "display_name": "Python 3.8.5 64-bit",
   "metadata": {
    "interpreter": {
     "hash": "1baa965d5efe3ac65b79dfc60c0d706280b1da80fedb7760faf2759126c4f253"
    }
   }
  }
 },
 "nbformat": 4,
 "nbformat_minor": 2,
 "cells": [
  {
   "cell_type": "code",
   "execution_count": null,
   "metadata": {},
   "outputs": [],
   "source": []
  },
  {
   "cell_type": "code",
   "execution_count": 99,
   "metadata": {},
   "outputs": [
    {
     "output_type": "execute_result",
     "data": {
      "text/plain": [
       "      district_name  district_name\n",
       "ЦФО            3211           3948\n",
       "ПФО            1450           1877\n",
       "СЗФО            981           1321\n",
       "СФО             956           1418\n",
       "УрФО            772            783\n",
       "ЮФО             757           1367\n",
       "ДВФО            238            759\n",
       "СКФО            106            202"
      ],
      "text/html": "<div>\n<style scoped>\n    .dataframe tbody tr th:only-of-type {\n        vertical-align: middle;\n    }\n\n    .dataframe tbody tr th {\n        vertical-align: top;\n    }\n\n    .dataframe thead th {\n        text-align: right;\n    }\n</style>\n<table border=\"1\" class=\"dataframe\">\n  <thead>\n    <tr style=\"text-align: right;\">\n      <th></th>\n      <th>district_name</th>\n      <th>district_name</th>\n    </tr>\n  </thead>\n  <tbody>\n    <tr>\n      <th>ЦФО</th>\n      <td>3211</td>\n      <td>3948</td>\n    </tr>\n    <tr>\n      <th>ПФО</th>\n      <td>1450</td>\n      <td>1877</td>\n    </tr>\n    <tr>\n      <th>СЗФО</th>\n      <td>981</td>\n      <td>1321</td>\n    </tr>\n    <tr>\n      <th>СФО</th>\n      <td>956</td>\n      <td>1418</td>\n    </tr>\n    <tr>\n      <th>УрФО</th>\n      <td>772</td>\n      <td>783</td>\n    </tr>\n    <tr>\n      <th>ЮФО</th>\n      <td>757</td>\n      <td>1367</td>\n    </tr>\n    <tr>\n      <th>ДВФО</th>\n      <td>238</td>\n      <td>759</td>\n    </tr>\n    <tr>\n      <th>СКФО</th>\n      <td>106</td>\n      <td>202</td>\n    </tr>\n  </tbody>\n</table>\n</div>"
     },
     "metadata": {},
     "execution_count": 99
    }
   ],
   "source": [
    "import pandas as pd\n",
    "filename = 'vacancies.xlsx'\n",
    "dfs = pd.read_excel(filename, sheet_name='data')\n",
    "standart_plus = dfs.loc[dfs['vacancy_type'] == 'STANDART PLUS']\n",
    "districts = standart_plus['district_name']\n",
    "districts_plus_count = districts.value_counts()\n",
    "districts_plus_count.name = 'standart plus'\n",
    "another = dfs.loc[dfs['vacancy_type'] != 'STANDART PLUS']\n",
    "districts_a = another['district_name']\n",
    "districts_a_count = districts_a.value_counts()\n",
    "pd.concat([districts_plus_count, districts_a_count], axis = 1)\n",
    "\n",
    "#Результат: регионы отсортированы по числу вакансий типа 'standart plus'\n"
   ]
  },
  {
   "cell_type": "code",
   "execution_count": 33,
   "metadata": {},
   "outputs": [
    {
     "output_type": "execute_result",
     "data": {
      "text/plain": [
       "1222.0    67\n",
       "1417.0    30\n",
       "1377.0    23\n",
       "1270.0    12\n",
       "579.0     10\n",
       "          ..\n",
       "3696.0     1\n",
       "3400.0     1\n",
       "3408.0     1\n",
       "2318.0     1\n",
       "1208.0     1\n",
       "Name: employer_id, Length: 2811, dtype: int64"
      ]
     },
     "metadata": {},
     "execution_count": 33
    }
   ],
   "source": [
    "moscow = dfs.loc[dfs['region_name'] == 'Москва']\n",
    "moscow_hunters = moscow['employer_id']\n",
    "moscow_hunters.value_counts()\n",
    "\n",
    "#Результат: работодатели из Москвы (id в первом столбце) отсортировано по числу вакансий (второй столбец) \n",
    "\n"
   ]
  },
  {
   "cell_type": "code",
   "execution_count": 36,
   "metadata": {},
   "outputs": [
    {
     "output_type": "execute_result",
     "data": {
      "text/plain": [
       "STANDART    67\n",
       "Name: vacancy_type, dtype: int64"
      ]
     },
     "metadata": {},
     "execution_count": 36
    }
   ],
   "source": [
    "top_hunter = moscow.loc[moscow['employer_id']==1222]\n",
    "top_hunter_types = top_hunter['vacancy_type']\n",
    "top_hunter_types.value_counts()\n",
    "\n",
    "#Результат: Число вакансий каждого типа для работодателя с заданным id (в данном случае тип оказался только один)\n"
   ]
  },
  {
   "cell_type": "code",
   "execution_count": 58,
   "metadata": {},
   "outputs": [
    {
     "output_type": "execute_result",
     "data": {
      "text/plain": [
       "17.003843086070624"
      ]
     },
     "metadata": {},
     "execution_count": 58
    }
   ],
   "source": [
    "hunters = dfs['employer_id'].value_counts()\n",
    "multis = hunters[hunters>1] \n",
    "100*len(multis)/len(hunters)\n",
    "\n",
    "#Результат: процент работодателей, разместивших на сайте больше одной вакансии\n",
    "\n",
    "\n"
   ]
  },
  {
   "cell_type": "code",
   "execution_count": 91,
   "metadata": {},
   "outputs": [
    {
     "output_type": "stream",
     "name": "stdout",
     "text": [
      "STANDART\n6 days 00:00:00\nSTANDART PLUS\n11 days 00:00:00\nPREMIUM\n14 days 04:48:00\nAP\n30 days 00:00:00\n"
     ]
    }
   ],
   "source": [
    "t = dfs.vacancy_type.unique()\n",
    "dfs['lifetime']=dfs.archivation_date-dfs.creation_date\n",
    "t = filter(lambda v: v==v, t)\n",
    "for v_type in t:\n",
    "    by_type = dfs.loc[dfs['vacancy_type'] == v_type]\n",
    "    print (v_type)\n",
    "    print(by_type.lifetime.quantile(0.1))\n",
    "\n",
    "#Результат: 10-ые процентили длительности жизни вакансий каждого типа, в днях\n"
   ]
  },
  {
   "cell_type": "code",
   "execution_count": null,
   "metadata": {},
   "outputs": [],
   "source": []
  }
 ]
}